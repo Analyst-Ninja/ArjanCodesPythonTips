


pi = 3.14159
print(f"Pi's Value rounded to 2 decimal points - {pi:.2f}")





num = 123456789
print(f'number with commas - {num:,}')





ratio = 0.84567
print(f'In percentage with precision 2 - {ratio:.2%}')





from datetime import datetime
now = datetime.now()
print(f"Current Date - {now:%Y-%m-%d}")
print(f"Current Time - {now:%H:%M:%S}")





name = 'Python'
print(f"{name:<20} is left-aligned")
print(f"{name:>20} is right-aligned")
print(f"{name:^20} is centered-aligned")





value=42
print(f"{value=}")
print(f"{value=:.2f}")
