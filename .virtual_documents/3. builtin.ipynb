


items = ['apple', 'banana', 'guava', 'cherry']
for index, item  in enumerate(items):
    print(f"{index} : {item}")





names = ['Alice', 'Bob', 'Charlie']
scores = [100, 99, 100]
for name, score in zip(names,scores):
    print(f"{name} -> {score}")





numbers = [1,0,10,1]
# Truthy - 1,2,3, 'Rohit'
# Falsy Values - Null, None, 0
print(any(numbers)) # Output: True (At least one of the numbers is Non Zero)
print(all(numbers)) # Output: False (Non all the numbers are Non Zero)





numbers = [1,2,3,4]
# Squaring the numbers by using map function
squares = map(lambda x : x**2, numbers)
print(list(squares))





numbers = [1,2,3,4,5]
# Extracting the even numbers using filter
evens = filter(lambda x : x%2==0, numbers)
print(list(evens))





items = ['apple', 'banana', 'grape']
for item in reversed(items):
    print(item)
print(items) # Original Order is not changed





items = ['apple', 'banana', 'grape']
longest_word = max(items, key=lambda x : len(x))
# Another way --> Key required a function
# longest_word = max(items, key=len)
print(f"The longest word in the list is {longest_word} with length : {len(longest_word)} characters")



