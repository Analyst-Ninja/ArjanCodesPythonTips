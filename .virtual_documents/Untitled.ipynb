


from decimal import Decimal

class ShoppingCart:
    def __init__(self) -> None:
        self.items = []

    def add_item(self, item : str, price : Decimal) -> None:
        self.items.append({
            'item' : item,
            'price' : price
        })

    def total(self) -> Decimal:
        return sum(item['price'] for item in self.items)

cart = ShoppingCart()
cart.add_item('Pen', 1.0)
cart.add_item('Notebook', 2.0)

cart.total()





from dataclasses import dataclass
from decimal import Decimal

@dataclass
class Item:
    name: str
    price: Decimal

item = Item(name='Notebook', price=2.55)
print(item)
print(f"{item.price:.2f}")





def calculate_discounted_price(price: Decimal, discount: Decimal) -> Decimal:
    return price*(1 - (discount / 100))

discounted_price = calculate_discounted_price(105, 19)
print(f"Price after discount: {discounted_price:.2f}")
