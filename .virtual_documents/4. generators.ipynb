


# Generator function that yields the squares

def squared_numbers(limit : int):
    for i in range(limit+1):
        yield i**2

# Use the generator function to compute the squares

for square in squared_numbers(5):
    print(square)
