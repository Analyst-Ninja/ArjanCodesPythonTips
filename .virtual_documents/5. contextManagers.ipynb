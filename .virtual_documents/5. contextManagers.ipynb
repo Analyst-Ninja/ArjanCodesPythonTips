








with open('example.txt', 'r') as file:
    text_blob = file.read()
    print(text_blob)





import sqlite3

with sqlite3.connect('example.db') as conn:
    cursor = conn.cursor()
    cursor.execute("CREATE TABLE IF NOT EXISTS users (id INTEGER, name TEXT)")
    cursor.execute("INSERT INTO users (id, name) VALUES (1, 'Rohit')")
    conn.commit()
    cursor.execute("SELECT * FROM users;")
    print(cursor.fetchall())





import time
from contextlib import contextmanager

@contextmanager
def timer():
    start = time.time()
    yield
    end = time.time()
    print(f"Elapsed time : {end - start:.2f} seconds")

with timer():
    total = sum(range(1_00_00_000))
    print(f"Sum Computed {total}")





class CustomResource:
    def __enter__(self):
        print("Resource Acquired.")
        return self

    def __exit__(self, exc_type, exc_value, traceback):
        print("Resource Released.")

with CustomResource() as resource:
    print("Using the Resource.")
