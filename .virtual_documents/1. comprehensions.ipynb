


squares = [x**2 for x in range(10) if x % 2 == 0]
squares





cubes = {x : x**3 for x in range(5)}
cubes





words = ['hello', 'Rohit', 'Ajay', 'Czech Republic']
unique_length = {len(word) for word in words}
unique_length





squares_generator = (x**2 for x in range(5))
for num in squares_generator:
    print(num, end=" ")





# Flattening a 2D matrix
matrix = [[1,2],
          [3,4]]
flatten_array = [num for row in matrix for num in row]
flatten_array





transposed_matrix = []
for i in range(2):
    row = []
    for j in range(2):
        row.append(matrix[j][i])
    transposed_matrix.append(row)
transposed_matrix


transposed_matrix = [[matrix[j][i] for j in range(2)] for i in range(2)]
transposed_matrix
